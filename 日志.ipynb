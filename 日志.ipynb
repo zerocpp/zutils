{
 "cells": [
  {
   "cell_type": "code",
   "execution_count": 1,
   "metadata": {},
   "outputs": [],
   "source": [
    "'''全局配置'''\n",
    "\n",
    "#日志目录\n",
    "LOG_DIR = \"./log\"\n"
   ]
  },
  {
   "cell_type": "code",
   "execution_count": 17,
   "metadata": {},
   "outputs": [],
   "source": [
    "import time\n",
    "import os\n",
    "import importlib\n",
    "import logging\n",
    "\n",
    "#若日志目录不存在则创建\n",
    "if not os.path.exists(LOG_DIR):\n",
    "    os.makedirs(LOG_DIR)\n",
    "\n",
    "#当前时间字符串作为日志文件名\n",
    "now_str = time.strftime(\"%m%d-%H%M%S\", time.localtime())\n",
    "log_file = f\"{now_str}.log\"\n",
    "log_path = os.path.join(LOG_DIR, log_file)\n",
    "\n",
    "#重置日志模块\n",
    "importlib.reload(logging)\n",
    "\n",
    "#初始化日志模块\n",
    "logging.basicConfig(\n",
    "    filename=log_path,\n",
    "    filemode='a', #追加模式\n",
    "    # format='%(message)s', #只打印消息\n",
    "    format='%(asctime)s %(message)s', #打印时间+消息\n",
    "    level=logging.INFO, #消息级别阈值\n",
    "    datefmt='%H:%M:%S') #日期格式"
   ]
  },
  {
   "cell_type": "code",
   "execution_count": 18,
   "metadata": {},
   "outputs": [],
   "source": [
    "logging.info(\"test1\")"
   ]
  },
  {
   "cell_type": "code",
   "execution_count": 19,
   "metadata": {},
   "outputs": [],
   "source": [
    "logging.info(\"test2\")"
   ]
  },
  {
   "cell_type": "code",
   "execution_count": 20,
   "metadata": {},
   "outputs": [],
   "source": [
    "logging.debug(\"test3\")"
   ]
  }
 ],
 "metadata": {
  "kernelspec": {
   "display_name": "demo",
   "language": "python",
   "name": "python3"
  },
  "language_info": {
   "codemirror_mode": {
    "name": "ipython",
    "version": 3
   },
   "file_extension": ".py",
   "mimetype": "text/x-python",
   "name": "python",
   "nbconvert_exporter": "python",
   "pygments_lexer": "ipython3",
   "version": "3.11.5"
  }
 },
 "nbformat": 4,
 "nbformat_minor": 2
}
