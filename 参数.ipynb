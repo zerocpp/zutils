{
 "cells": [
  {
   "cell_type": "code",
   "execution_count": 1,
   "metadata": {},
   "outputs": [],
   "source": [
    "'''全局配置'''\n",
    "from config import *"
   ]
  },
  {
   "cell_type": "code",
   "execution_count": 2,
   "metadata": {},
   "outputs": [],
   "source": [
    "def parse_known_args():\n",
    "    '''读取参数'''\n",
    "    import argparse\n",
    "\n",
    "    parser = argparse.ArgumentParser(description='train model')\n",
    "    parser.add_argument('--dataset', type=str, default='cifar10',\n",
    "                        help='mnist, cifar10, cifar100')\n",
    "    parser.add_argument('--data_dir', type=str, metavar=DATA_DIR,\n",
    "                        help='Path to Dataset folder')\n",
    "    parser.add_argument('--model', type=str, default='resnet20',\n",
    "                        help='model to use, only resnet56, resnet20')\n",
    "    parser.add_argument('--pretrained', type=int, default=0,\n",
    "                        help='whether to use pretrained model')\n",
    "    parser.add_argument('--batch_size', type=int, default=128,\n",
    "                        help='input batch size for statistics (default: 128)')\n",
    "    parser.add_argument('--test_batch_size', type=int, default=256,\n",
    "                        help='input batch size for testing (default: 256)')\n",
    "    parser.add_argument('--gpus', default='0', \n",
    "                        help='List of GPUs used for training - e.g 0,1,3')\n",
    "    parser.add_argument('--j', '--workers', default=8, type=int, metavar='N',\n",
    "                        help='Number of data loading workers (default: 8)')\n",
    "    parser.add_argument('--seed', type=int, default=0, \n",
    "                        help='random seed (default: 0)')\n",
    "    parser.add_argument('--epochs', type=int, default=300,\n",
    "                        help='epochs to train (default: 300)')\n",
    "    parser.add_argument('--lr', type=float, default=0.1,\n",
    "                        help='learning rate to train (default: 0.1)')\n",
    "    parser.add_argument('--unlearn_class', type=int,\n",
    "                        help='class label to unlearn')\n",
    "    parser.add_argument('--save_acc', type=float, default=94.0,\n",
    "                        help='save accuracy')\n",
    "    parser.add_argument('--label_smoothing', type=float, default='0.0',\n",
    "                        help='label smoothing rate')\n",
    "    parser.add_argument('--warmup_step', type=int, default='0',\n",
    "                        help='warm up epochs')\n",
    "    parser.add_argument('--warm_lr', type=float, default='10e-5',\n",
    "                        help='warm up learning rate')\n",
    "    return parser.parse_known_args()[0]"
   ]
  },
  {
   "cell_type": "code",
   "execution_count": 3,
   "metadata": {},
   "outputs": [
    {
     "data": {
      "text/plain": [
       "Namespace(dataset='cifar10', data_dir=None, model='resnet20', pretrained=0, batch_size=128, test_batch_size=256, gpus='0', j=8, seed=0, epochs=300, lr=0.1, unlearn_class=None, save_acc=94.0, label_smoothing=0.0, warmup_step=0, warm_lr=0.0001)"
      ]
     },
     "execution_count": 3,
     "metadata": {},
     "output_type": "execute_result"
    }
   ],
   "source": [
    "'''使用参数'''\n",
    "args = parse_known_args()\n",
    "args"
   ]
  },
  {
   "cell_type": "code",
   "execution_count": 13,
   "metadata": {},
   "outputs": [
    {
     "data": {
      "text/plain": [
       "('resnet20', '0')"
      ]
     },
     "execution_count": 13,
     "metadata": {},
     "output_type": "execute_result"
    }
   ],
   "source": [
    "args.model, args.gpus"
   ]
  }
 ],
 "metadata": {
  "kernelspec": {
   "display_name": "demo",
   "language": "python",
   "name": "python3"
  },
  "language_info": {
   "codemirror_mode": {
    "name": "ipython",
    "version": 3
   },
   "file_extension": ".py",
   "mimetype": "text/x-python",
   "name": "python",
   "nbconvert_exporter": "python",
   "pygments_lexer": "ipython3",
   "version": "3.11.5"
  }
 },
 "nbformat": 4,
 "nbformat_minor": 2
}
