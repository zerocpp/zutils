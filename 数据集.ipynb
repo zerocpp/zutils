{
 "cells": [
  {
   "cell_type": "code",
   "execution_count": 2,
   "metadata": {},
   "outputs": [
    {
     "name": "stdout",
     "output_type": "stream",
     "text": [
      "Files already downloaded and verified\n",
      "Files already downloaded and verified\n"
     ]
    },
    {
     "data": {
      "text/plain": [
       "(Dataset CIFAR10\n",
       "     Number of datapoints: 50000\n",
       "     Root location: D:/data\n",
       "     Split: Train\n",
       "     StandardTransform\n",
       " Transform: Compose(\n",
       "                RandomCrop(size=(32, 32), padding=4)\n",
       "                RandomHorizontalFlip(p=0.5)\n",
       "                ToTensor()\n",
       "                Normalize(mean=[0.4914117647058824, 0.48215686274509806, 0.44654901960784316], std=[0.24705882352941178, 0.2434901960784314, 0.2615686274509804])\n",
       "            ),\n",
       " Dataset CIFAR10\n",
       "     Number of datapoints: 10000\n",
       "     Root location: D:/data\n",
       "     Split: Test\n",
       "     StandardTransform\n",
       " Transform: Compose(\n",
       "                ToTensor()\n",
       "                Normalize(mean=[0.4914117647058824, 0.48215686274509806, 0.44654901960784316], std=[0.24705882352941178, 0.2434901960784314, 0.2615686274509804])\n",
       "            ))"
      ]
     },
     "execution_count": 2,
     "metadata": {},
     "output_type": "execute_result"
    }
   ],
   "source": [
    "'''全局配置'''\n",
    "from config import *\n",
    "\n",
    "def get_cifar10(data_dir, download=False):\n",
    "    '''\n",
    "    获取cifar10数据集（下载及处理）\n",
    "    data_dir: 数据集目录\n",
    "    download: 若不存在是否下载，默认为False，即不下载\n",
    "    @return: (trainset, testset), (训练集, 测试集)\n",
    "    '''\n",
    "    from torchvision import transforms\n",
    "    import torchvision\n",
    "\n",
    "    mean=[125.31 / 255, 122.95 / 255, 113.87 / 255]\n",
    "    std=[63.0 / 255, 62.09 / 255, 66.70 / 255]\n",
    "    transform_train = transforms.Compose([\n",
    "        transforms.RandomCrop(32, padding=4),\n",
    "        transforms.RandomHorizontalFlip(),\n",
    "        transforms.ToTensor(),\n",
    "        transforms.Normalize(mean, std),\n",
    "        ])\n",
    "    transform_test = transforms.Compose([\n",
    "        transforms.ToTensor(),\n",
    "        transforms.Normalize(mean,std)\n",
    "        ])\n",
    "    trainset = torchvision.datasets.CIFAR10(root=data_dir, train=True, download=download, transform=transform_train)\n",
    "    testset = torchvision.datasets.CIFAR10(root=data_dir, train=False, download=download, transform=transform_test)\n",
    "    return trainset, testset\n",
    "\n",
    "#下载数据集\n",
    "get_cifar10(DATA_DIR, download=True)\n",
    "\n",
    "#加载数据集\n",
    "trainset, testset = get_cifar10(DATA_DIR)\n",
    "\n",
    "trainset, testset"
   ]
  }
 ],
 "metadata": {
  "kernelspec": {
   "display_name": "demo",
   "language": "python",
   "name": "python3"
  },
  "language_info": {
   "codemirror_mode": {
    "name": "ipython",
    "version": 3
   },
   "file_extension": ".py",
   "mimetype": "text/x-python",
   "name": "python",
   "nbconvert_exporter": "python",
   "pygments_lexer": "ipython3",
   "version": "3.11.5"
  }
 },
 "nbformat": 4,
 "nbformat_minor": 2
}
