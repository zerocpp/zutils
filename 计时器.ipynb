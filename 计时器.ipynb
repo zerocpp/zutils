{
 "cells": [
  {
   "cell_type": "code",
   "execution_count": 3,
   "metadata": {},
   "outputs": [],
   "source": [
    "import time\n",
    "class ztimer:\n",
    "    '''Timer'''\n",
    "    def __init__(self):\n",
    "        self.begin = time.time()\n",
    "        self.times = [] #from 0\n",
    "        self.durations = [] #from self.begin\n",
    "        self.intervals = [] #from last stop\n",
    "\n",
    "    def last_stop_duration(self):\n",
    "        '''last stop's duration'''\n",
    "        return self.durations[-1] if len(self.durations) else self.begin\n",
    "\n",
    "    def stop(self, fmt=True):\n",
    "        '''stop'''\n",
    "        now = time.time()\n",
    "        last_stop_time = self.times[-1] if len(self.times) else self.begin\n",
    "        self.times.append(now)\n",
    "        self.durations.append(now - self.begin)\n",
    "        self.intervals.append(now - last_stop_time)\n",
    "        t = self.last_stop_duration()\n",
    "        if fmt:\n",
    "            return self.format_duration(t)\n",
    "        else:\n",
    "            return t\n",
    "    \n",
    "    def format_duration(self, t):\n",
    "        h = int(t)//3600\n",
    "        m = int( int(t) - h*3600 ) // 60\n",
    "        s = int( int(t) - h*3600 ) % 60\n",
    "        ms = int((t - int(t))*1000)\n",
    "        return '%02d:%02d:%02d.%03d'%(h,m,s,ms)\n",
    "        \n",
    "timer = ztimer()"
   ]
  },
  {
   "cell_type": "code",
   "execution_count": 4,
   "metadata": {},
   "outputs": [
    {
     "data": {
      "text/plain": [
       "'00:00:02.574'"
      ]
     },
     "execution_count": 4,
     "metadata": {},
     "output_type": "execute_result"
    }
   ],
   "source": [
    "timer.stop()"
   ]
  },
  {
   "cell_type": "code",
   "execution_count": 5,
   "metadata": {},
   "outputs": [
    {
     "data": {
      "text/plain": [
       "'00:00:36.239'"
      ]
     },
     "execution_count": 5,
     "metadata": {},
     "output_type": "execute_result"
    }
   ],
   "source": [
    "timer.stop()"
   ]
  },
  {
   "cell_type": "code",
   "execution_count": 6,
   "metadata": {},
   "outputs": [
    {
     "data": {
      "text/plain": [
       "[2.574592351913452, 33.664456605911255]"
      ]
     },
     "execution_count": 6,
     "metadata": {},
     "output_type": "execute_result"
    }
   ],
   "source": [
    "timer.intervals"
   ]
  },
  {
   "cell_type": "code",
   "execution_count": 7,
   "metadata": {},
   "outputs": [
    {
     "data": {
      "text/plain": [
       "1706511381.9201756"
      ]
     },
     "execution_count": 7,
     "metadata": {},
     "output_type": "execute_result"
    }
   ],
   "source": [
    "timer.begin"
   ]
  },
  {
   "cell_type": "code",
   "execution_count": 8,
   "metadata": {},
   "outputs": [
    {
     "data": {
      "text/plain": [
       "[2.574592351913452, 36.23904895782471]"
      ]
     },
     "execution_count": 8,
     "metadata": {},
     "output_type": "execute_result"
    }
   ],
   "source": [
    "timer.durations"
   ]
  },
  {
   "cell_type": "code",
   "execution_count": 9,
   "metadata": {},
   "outputs": [
    {
     "data": {
      "text/plain": [
       "[1706511384.494768, 1706511418.1592245]"
      ]
     },
     "execution_count": 9,
     "metadata": {},
     "output_type": "execute_result"
    }
   ],
   "source": [
    "timer.times"
   ]
  },
  {
   "cell_type": "code",
   "execution_count": null,
   "metadata": {},
   "outputs": [],
   "source": []
  }
 ],
 "metadata": {
  "kernelspec": {
   "display_name": "py38",
   "language": "python",
   "name": "python3"
  },
  "language_info": {
   "codemirror_mode": {
    "name": "ipython",
    "version": 3
   },
   "file_extension": ".py",
   "mimetype": "text/x-python",
   "name": "python",
   "nbconvert_exporter": "python",
   "pygments_lexer": "ipython3",
   "version": "3.8.18"
  }
 },
 "nbformat": 4,
 "nbformat_minor": 2
}
